{
 "cells": [
  {
   "cell_type": "code",
   "execution_count": 4,
   "metadata": {},
   "outputs": [
    {
     "name": "stdout",
     "output_type": "stream",
     "text": [
      "3600\n",
      "86400\n",
      "24.0\n",
      "24\n"
     ]
    }
   ],
   "source": [
    "#3.1 and 3.2\n",
    "seconds_per_hour = 60 * 60\n",
    "print(seconds_per_hour)\n",
    "\n",
    "#3.3 and 3.4\n",
    "seconds_per_day = seconds_per_hour * 24\n",
    "print(seconds_per_day)\n",
    "\n",
    "#3.5 and 3.6\n",
    "float_div = seconds_per_day/seconds_per_hour\n",
    "print(float_div)\n",
    "\n",
    "int_div = seconds_per_day//seconds_per_hour\n",
    "print(int_div)"
   ]
  },
  {
   "cell_type": "markdown",
   "metadata": {},
   "source": [
    "3.1) There are 3600 seconds per hour\n",
    "3.3) There are 86,400 seconds in a day\n",
    "3.6) Yes, both numbers are the same aside from the .0 on the float division"
   ]
  }
 ],
 "metadata": {
  "kernelspec": {
   "display_name": "Python 3",
   "language": "python",
   "name": "python3"
  },
  "language_info": {
   "codemirror_mode": {
    "name": "ipython",
    "version": 3
   },
   "file_extension": ".py",
   "mimetype": "text/x-python",
   "name": "python",
   "nbconvert_exporter": "python",
   "pygments_lexer": "ipython3",
   "version": "3.11.4"
  },
  "orig_nbformat": 4
 },
 "nbformat": 4,
 "nbformat_minor": 2
}
